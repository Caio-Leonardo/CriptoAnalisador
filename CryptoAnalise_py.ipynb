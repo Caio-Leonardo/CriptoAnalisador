{
  "nbformat": 4,
  "nbformat_minor": 0,
  "metadata": {
    "colab": {
      "name": "CryptoAnalise.py",
      "provenance": [],
      "collapsed_sections": [],
      "authorship_tag": "ABX9TyPr26rd1FvDtHvQh/nKmAqv"
    },
    "kernelspec": {
      "name": "python3",
      "display_name": "Python 3"
    },
    "language_info": {
      "name": "python"
    }
  },
  "cells": [
    {
      "cell_type": "code",
      "source": [
        "# Importar as bibliotecas e utilizar na plotagem dos valores/comparativos \n",
        "import pandas_datareader as web\n",
        "import datetime as dt\n",
        "import mplfinance as mpf\n",
        "\n",
        "start = dt.datetime(2020, 1, 1)\n",
        "end = dt.datetime.now()\n",
        "\n",
        "# Moedas/Cripto \n",
        "data = web.DataReader(\"BTC-USD\", \"yahoo\", start, end)\n",
        "\n",
        "mpf.plot(data, type=\"candle\", volume=True, style=\"yahoo\")"
      ],
      "metadata": {
        "id": "o4Yea6GcAtHL"
      },
      "execution_count": null,
      "outputs": []
    },
    {
      "cell_type": "code",
      "source": [
        "# Importar as bibliotecas necessarias \n",
        "import pandas_datareader as web\n",
        "import mplfinance as mpf\n",
        "import datetime as dt\n",
        "import matplotlib.pyplot as plt\n",
        "import seaborn as sns\n",
        "\n",
        "# Escolher a moeda \n",
        "currency = \"USD\"\n",
        "metric = \"Close\"\n",
        "\n",
        "# Escolher qual é o tempo em que voce quer comparar \n",
        "start = dt.datetime(2018,1,1)\n",
        "end = dt.datetime.now()\n",
        "\n",
        "# Escolher as Criptomoedas e suas respectivas siglas \n",
        "crypto = ['BTC', 'ETH', 'LTC', 'XRP', 'DASH', 'SC']\n",
        "colnames = []\n",
        "\n",
        "first = True\n",
        "\n",
        "# Atribuir o valor e nome do ticket da carteira \n",
        "for ticker in crypto:\n",
        "    data = web.DataReader(f\"{ticker}-{currency}\", \"yahoo\", start, end)\n",
        "    if first:\n",
        "        combined = data[[metric]].copy()\n",
        "        colnames.append(ticker)\n",
        "        combined.columns = colnames\n",
        "        first = False\n",
        "    else:\n",
        "        combined = combined.join(data[metric])\n",
        "        colnames.append(ticker)\n",
        "        combined.columns = colnames\n",
        "\n",
        "# Primeira amostra Linear \n",
        "plt.yscale('log') \n",
        "\n",
        "for ticker in crypto:\n",
        "    plt.plot(combined[ticker], label=ticker)\n",
        "\n",
        "plt.legend(loc=\"upper right\")\n",
        "\n",
        "plt.show()\n",
        "\n",
        "# Mapa de correlacao \n",
        "\n",
        "print(combined)\n",
        "\n",
        "combined = combined.pct_change().corr(method='pearson')\n",
        "\n",
        "sns.heatmap(combined, annot=True, cmap=\"coolwarm\")\n",
        "plt.show()"
      ],
      "metadata": {
        "id": "WuVhFgXKCxAT"
      },
      "execution_count": null,
      "outputs": []
    },
    {
      "cell_type": "markdown",
      "source": [
        ""
      ],
      "metadata": {
        "id": "eSRqJtxLA0Ty"
      }
    }
  ]
}